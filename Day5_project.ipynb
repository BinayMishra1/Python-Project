{
 "cells": [
  {
   "cell_type": "code",
   "execution_count": 10,
   "id": "8ee6016a",
   "metadata": {},
   "outputs": [
    {
     "name": "stdout",
     "output_type": "stream",
     "text": [
      "['david', 'carmella', 'andrew', 'annie', 'mark']\n"
     ]
    }
   ],
   "source": [
    "students= ['david','carmella','andrew','annie','mark']\n",
    "print(students)"
   ]
  },
  {
   "cell_type": "code",
   "execution_count": 11,
   "id": "7754ac3b",
   "metadata": {},
   "outputs": [
    {
     "name": "stdout",
     "output_type": "stream",
     "text": [
      "['david', 'carmella', 'andrew', 'annie', 'mark', 'douglas']\n"
     ]
    }
   ],
   "source": [
    "students.append('douglas')\n",
    "print(students)"
   ]
  },
  {
   "cell_type": "code",
   "execution_count": 12,
   "id": "a999d20e",
   "metadata": {},
   "outputs": [],
   "source": [
    "students.insert(0,'troy')"
   ]
  },
  {
   "cell_type": "code",
   "execution_count": 13,
   "id": "b6913eb2",
   "metadata": {},
   "outputs": [
    {
     "name": "stdout",
     "output_type": "stream",
     "text": [
      "['troy', 'david', 'carmella', 'andrew', 'annie', 'mark', 'douglas']\n"
     ]
    }
   ],
   "source": [
    "print(students)"
   ]
  },
  {
   "cell_type": "code",
   "execution_count": 17,
   "id": "02957144",
   "metadata": {},
   "outputs": [
    {
     "data": {
      "text/plain": [
       "1"
      ]
     },
     "execution_count": 17,
     "metadata": {},
     "output_type": "execute_result"
    }
   ],
   "source": [
    "students.index('david')"
   ]
  },
  {
   "cell_type": "code",
   "execution_count": null,
   "id": "f605a36f",
   "metadata": {},
   "outputs": [],
   "source": []
  }
 ],
 "metadata": {
  "kernelspec": {
   "display_name": "Python 3 (ipykernel)",
   "language": "python",
   "name": "python3"
  },
  "language_info": {
   "codemirror_mode": {
    "name": "ipython",
    "version": 3
   },
   "file_extension": ".py",
   "mimetype": "text/x-python",
   "name": "python",
   "nbconvert_exporter": "python",
   "pygments_lexer": "ipython3",
   "version": "3.9.12"
  }
 },
 "nbformat": 4,
 "nbformat_minor": 5
}
