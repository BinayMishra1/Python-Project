{
 "cells": [
  {
   "cell_type": "code",
   "execution_count": 20,
   "id": "f9d101de",
   "metadata": {},
   "outputs": [
    {
     "name": "stdout",
     "output_type": "stream",
     "text": [
      "congrats for selection,Kumar\n",
      "in Indian cricket team,Kumar\n",
      "\n",
      "congrats for selection,dinesh\n",
      "in Indian cricket team,dinesh\n",
      "\n",
      "congrats for selection,shami\n",
      "in Indian cricket team,shami\n",
      "\n",
      "congrats for selection,Arshadeep\n",
      "in Indian cricket team,Arshadeep\n",
      "\n",
      "All the best\n"
     ]
    }
   ],
   "source": [
    "students = ['Kumar','dinesh','shami','Arshadeep']\n",
    "for X in students:\n",
    "    print(f\"congrats for selection,{X}\")\n",
    "    print(f\"in Indian cricket team,{X}\\n\")\n",
    "print(\"All the best\")"
   ]
  },
  {
   "cell_type": "code",
   "execution_count": null,
   "id": "61995e93",
   "metadata": {},
   "outputs": [],
   "source": []
  },
  {
   "cell_type": "code",
   "execution_count": null,
   "id": "b345baa0",
   "metadata": {},
   "outputs": [],
   "source": []
  }
 ],
 "metadata": {
  "kernelspec": {
   "display_name": "Python 3 (ipykernel)",
   "language": "python",
   "name": "python3"
  },
  "language_info": {
   "codemirror_mode": {
    "name": "ipython",
    "version": 3
   },
   "file_extension": ".py",
   "mimetype": "text/x-python",
   "name": "python",
   "nbconvert_exporter": "python",
   "pygments_lexer": "ipython3",
   "version": "3.9.12"
  }
 },
 "nbformat": 4,
 "nbformat_minor": 5
}
