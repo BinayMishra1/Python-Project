{
 "cells": [
  {
   "cell_type": "markdown",
   "id": "834efdc7",
   "metadata": {},
   "source": []
  },
  {
   "cell_type": "code",
   "execution_count": 14,
   "id": "5c17a0d0",
   "metadata": {},
   "outputs": [
    {
     "name": "stdout",
     "output_type": "stream",
     "text": [
      "This is project submission of day 1 BINAY kumar Mishra\n"
     ]
    }
   ],
   "source": [
    "name1= 'binay'\n",
    "name2= \"kumar\"\n",
    "name3=\"\"\"mishra\"\"\"\n",
    "Day= 1\n",
    "\n",
    "print(\"This is project submission of day\", Day,\"to\",days,name1.upper()+\" \"+name2.lower()+\" \"+name3.title())"
   ]
  },
  {
   "cell_type": "code",
   "execution_count": null,
   "id": "74b3bd99",
   "metadata": {},
   "outputs": [],
   "source": []
  }
 ],
 "metadata": {
  "kernelspec": {
   "display_name": "Python 3 (ipykernel)",
   "language": "python",
   "name": "python3"
  },
  "language_info": {
   "codemirror_mode": {
    "name": "ipython",
    "version": 3
   },
   "file_extension": ".py",
   "mimetype": "text/x-python",
   "name": "python",
   "nbconvert_exporter": "python",
   "pygments_lexer": "ipython3",
   "version": "3.9.12"
  }
 },
 "nbformat": 4,
 "nbformat_minor": 5
}
